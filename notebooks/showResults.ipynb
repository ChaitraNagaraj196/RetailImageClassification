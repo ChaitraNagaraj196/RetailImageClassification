{
 "cells": [
  {
   "cell_type": "markdown",
   "metadata": {},
   "source": [
    "# Results visualization - Jupyter widget\n",
    "This notebook can be used to scroll through all test or training images and visualizes for each image its predicted class and classification scores."
   ]
  },
  {
   "cell_type": "code",
   "execution_count": 1,
   "metadata": {},
   "outputs": [
    {
     "ename": "ImportError",
     "evalue": "No module named 'bqplot'",
     "output_type": "error",
     "traceback": [
      "\u001b[1;31m---------------------------------------------------------------------------\u001b[0m",
      "\u001b[1;31mImportError\u001b[0m                               Traceback (most recent call last)",
      "\u001b[1;32m<ipython-input-1-6b3a68428a3e>\u001b[0m in \u001b[0;36m<module>\u001b[1;34m()\u001b[0m\n\u001b[0;32m      7\u001b[0m \u001b[1;32mfrom\u001b[0m \u001b[0mhelpers\u001b[0m \u001b[1;32mimport\u001b[0m \u001b[0mgetAmlLogger\u001b[0m\u001b[1;33m\u001b[0m\u001b[0m\n\u001b[0;32m      8\u001b[0m \u001b[1;32mfrom\u001b[0m \u001b[0mutilities_general_v2\u001b[0m \u001b[1;32mimport\u001b[0m \u001b[1;33m*\u001b[0m\u001b[1;33m\u001b[0m\u001b[0m\n\u001b[1;32m----> 9\u001b[1;33m \u001b[1;32mfrom\u001b[0m \u001b[0mui_resultsViewer\u001b[0m \u001b[1;32mimport\u001b[0m \u001b[0mResultsUI\u001b[0m\u001b[1;33m\u001b[0m\u001b[0m\n\u001b[0m\u001b[0;32m     10\u001b[0m \u001b[1;32mfrom\u001b[0m \u001b[0mPARAMETERS\u001b[0m \u001b[1;32mimport\u001b[0m \u001b[0mprocDir\u001b[0m\u001b[1;33m,\u001b[0m \u001b[0mimgOrigDir\u001b[0m\u001b[1;33m\u001b[0m\u001b[0m\n\u001b[0;32m     11\u001b[0m \u001b[0mget_ipython\u001b[0m\u001b[1;33m(\u001b[0m\u001b[1;33m)\u001b[0m\u001b[1;33m.\u001b[0m\u001b[0mmagic\u001b[0m\u001b[1;33m(\u001b[0m\u001b[1;34m'autosave 0'\u001b[0m\u001b[1;33m)\u001b[0m\u001b[1;33m\u001b[0m\u001b[0m\n",
      "\u001b[1;32mC:\\Users\\ChaitraDS\\CNTKSamples\\MachineLearningSamples-ImageClassificationUsingCntk-master\\MachineLearningSamples-ImageClassificationUsingCntk-master\\libraries\\ui_resultsViewer.py\u001b[0m in \u001b[0;36m<module>\u001b[1;34m()\u001b[0m\n\u001b[0;32m      2\u001b[0m \u001b[1;32mimport\u001b[0m \u001b[0mnumpy\u001b[0m \u001b[1;32mas\u001b[0m \u001b[0mnp\u001b[0m\u001b[1;33m\u001b[0m\u001b[0m\n\u001b[0;32m      3\u001b[0m \u001b[1;32mfrom\u001b[0m \u001b[0mipywidgets\u001b[0m \u001b[1;32mimport\u001b[0m \u001b[0mwidgets\u001b[0m\u001b[1;33m,\u001b[0m \u001b[0mLayout\u001b[0m\u001b[1;33m,\u001b[0m \u001b[0mIntSlider\u001b[0m\u001b[1;33m\u001b[0m\u001b[0m\n\u001b[1;32m----> 4\u001b[1;33m \u001b[1;32mimport\u001b[0m \u001b[0mbqplot\u001b[0m\u001b[1;33m\u001b[0m\u001b[0m\n\u001b[0m\u001b[0;32m      5\u001b[0m \u001b[1;32mfrom\u001b[0m \u001b[0mbqplot\u001b[0m \u001b[1;32mimport\u001b[0m \u001b[0mpyplot\u001b[0m \u001b[1;32mas\u001b[0m \u001b[0mbqPyplot\u001b[0m\u001b[1;33m\u001b[0m\u001b[0m\n\u001b[0;32m      6\u001b[0m \u001b[1;32mfrom\u001b[0m \u001b[0mIPython\u001b[0m\u001b[1;33m.\u001b[0m\u001b[0mdisplay\u001b[0m \u001b[1;32mimport\u001b[0m \u001b[0mdisplay\u001b[0m\u001b[1;33m\u001b[0m\u001b[0m\n",
      "\u001b[1;31mImportError\u001b[0m: No module named 'bqplot'"
     ]
    }
   ],
   "source": [
    "import sys, os\n",
    "sys.path.append(\".\")\n",
    "sys.path.append(\"..\")\n",
    "sys.path.append(\"libraries\")\n",
    "sys.path.append(\"../libraries\")\n",
    "from IPython.display import display\n",
    "from helpers import getAmlLogger\n",
    "from utilities_general_v2 import *\n",
    "from ui_resultsViewer import ResultsUI\n",
    "from PARAMETERS import procDir, imgOrigDir\n",
    "%autosave 0\n",
    "\n",
    "amlLogger = getAmlLogger()\n",
    "if amlLogger != []:\n",
    "    amlLogger.log(\"amlrealworld.ImageClassificationUsingCntk.showResults\", \"true\")\n",
    "\n",
    "# Load data\n",
    "scoresMatrix  = readPickle(pathJoin(procDir, \"scoresMatrix.pickle\"))\n",
    "predLabels    = readPickle(pathJoin(procDir, \"predLabels.pickle\"))\n",
    "lutId2Label   = readPickle(pathJoin(procDir, \"lutId2Label.pickle\"))\n",
    "boEvalOnTrainingSet = readPickle(pathJoin(procDir, \"boEvalOnTrainingSet.pickle\"))\n",
    "\n",
    "if not boEvalOnTrainingSet:\n",
    "    imgDict = readPickle(pathJoin(procDir, \"imgDictTest.pickle\"))\n",
    "else:\n",
    "    print(\"WARNING: showing results on training set.\")\n",
    "    imgDict = readPickle(pathJoin(procDir, \"imgDictTrain.pickle\"))"
   ]
  },
  {
   "cell_type": "code",
   "execution_count": null,
   "metadata": {},
   "outputs": [],
   "source": [
    "# Instantiate and show results viewer UI\n",
    "resultsUI = ResultsUI(imgOrigDir, imgDict, scoresMatrix, predLabels, lutId2Label, boSoftmax = True)\n",
    "display(resultsUI.ui)"
   ]
  },
  {
   "cell_type": "code",
   "execution_count": null,
   "metadata": {},
   "outputs": [],
   "source": []
  }
 ],
 "metadata": {
  "anaconda-cloud": {},
  "kernelspec": {
   "display_name": "Python [Root]",
   "language": "python",
   "name": "Python [Root]"
  },
  "language_info": {
   "codemirror_mode": {
    "name": "ipython",
    "version": 3
   },
   "file_extension": ".py",
   "mimetype": "text/x-python",
   "name": "python",
   "nbconvert_exporter": "python",
   "pygments_lexer": "ipython3",
   "version": "3.5.2"
  }
 },
 "nbformat": 4,
 "nbformat_minor": 2
}
